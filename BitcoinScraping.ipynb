{
 "cells": [
  {
   "cell_type": "markdown",
   "metadata": {},
   "source": [
    "<h1> BitcoinScraping </h1>"
   ]
  },
  {
   "cell_type": "code",
   "execution_count": 65,
   "metadata": {
    "collapsed": true
   },
   "outputs": [],
   "source": [
    "import urllib.request\n",
    "from bs4 import BeautifulSoup\n",
    "import pandas as pd\n",
    "from datetime import datetime\n",
    "import time "
   ]
  },
  {
   "cell_type": "code",
   "execution_count": 7,
   "metadata": {},
   "outputs": [],
   "source": [
    "dtIni = \"20170615\"\n",
    "dtEnd = \"20180615\"\n",
    "url = \"https://coinmarketcap.com/currencies/bitcoin/historical-data/?start={}&end={}\".format(dtIni, dtEnd)\n",
    "page = urllib.request.urlopen(url)\n",
    "soup = BeautifulSoup(page, 'html.parser')"
   ]
  },
  {
   "cell_type": "code",
   "execution_count": 15,
   "metadata": {},
   "outputs": [],
   "source": [
    "priceDiv = soup.find('div', attrs={'class':\"table-responsive\"})\n",
    "rows = priceDiv.find_all('tr')"
   ]
  },
  {
   "cell_type": "code",
   "execution_count": 17,
   "metadata": {},
   "outputs": [],
   "source": [
    "data = []\n",
    "i = 0;"
   ]
  },
  {
   "cell_type": "code",
   "execution_count": 92,
   "metadata": {},
   "outputs": [
    {
     "name": "stdout",
     "output_type": "stream",
     "text": [
      "time data 'Date' does not match format '%b %d %Y'\n"
     ]
    }
   ],
   "source": [
    "for row in rows:\n",
    "    tmp = []\n",
    "    tds = row.findChildren()\n",
    "    \n",
    "    for td in tds:\n",
    "        tmp.append(td.text)\n",
    "        \n",
    "    if(i > 0):\n",
    "        try:\n",
    "            tmp[0] = tmp[0].replace(',','')\n",
    "            tmp[5] = tmp[5].replace(',','')\n",
    "            tmp[6] = tmp[6].replace(',','')\n",
    "            \n",
    "            data.append({'date':datetime.strptime(tmp[0], '%b %d %Y'),\n",
    "                         'open':tmp[1],\n",
    "                         'high':float(tmp[2]),\n",
    "                         'low':float(tmp[3]),\n",
    "                         'close':float(tmp[4]),\n",
    "                         'volume':float(tmp[5]),\n",
    "                         'mcap':float(tmp[6])})\n",
    "        except ValueError as e:\n",
    "            print(e)\n",
    "\n",
    "    i = i + 1;\n",
    "\n",
    "df = pd.DataFrame(data)        "
   ]
  },
  {
   "cell_type": "code",
   "execution_count": 94,
   "metadata": {},
   "outputs": [
    {
     "data": {
      "text/html": [
       "<div>\n",
       "<style>\n",
       "    .dataframe thead tr:only-child th {\n",
       "        text-align: right;\n",
       "    }\n",
       "\n",
       "    .dataframe thead th {\n",
       "        text-align: left;\n",
       "    }\n",
       "\n",
       "    .dataframe tbody tr th {\n",
       "        vertical-align: top;\n",
       "    }\n",
       "</style>\n",
       "<table border=\"1\" class=\"dataframe\">\n",
       "  <thead>\n",
       "    <tr style=\"text-align: right;\">\n",
       "      <th></th>\n",
       "      <th>close</th>\n",
       "      <th>date</th>\n",
       "      <th>high</th>\n",
       "      <th>low</th>\n",
       "      <th>mcap</th>\n",
       "      <th>open</th>\n",
       "      <th>volume</th>\n",
       "    </tr>\n",
       "  </thead>\n",
       "  <tbody>\n",
       "    <tr>\n",
       "      <th>0</th>\n",
       "      <td>6456.58</td>\n",
       "      <td>2018-06-15 00:00:00</td>\n",
       "      <td>6681.08</td>\n",
       "      <td>6433.87</td>\n",
       "      <td>1.14084e+11</td>\n",
       "      <td>6674.08</td>\n",
       "      <td>3.95539e+09</td>\n",
       "    </tr>\n",
       "    <tr>\n",
       "      <th>1</th>\n",
       "      <td>6675.35</td>\n",
       "      <td>2018-06-14 00:00:00</td>\n",
       "      <td>6707.14</td>\n",
       "      <td>6334.46</td>\n",
       "      <td>1.08408e+11</td>\n",
       "      <td>6342.75</td>\n",
       "      <td>5.13871e+09</td>\n",
       "    </tr>\n",
       "    <tr>\n",
       "      <th>2</th>\n",
       "      <td>6349.9</td>\n",
       "      <td>2018-06-13 00:00:00</td>\n",
       "      <td>6631.66</td>\n",
       "      <td>6285.63</td>\n",
       "      <td>1.1274e+11</td>\n",
       "      <td>6596.88</td>\n",
       "      <td>5.05235e+09</td>\n",
       "    </tr>\n",
       "    <tr>\n",
       "      <th>3</th>\n",
       "      <td>6582.36</td>\n",
       "      <td>2018-06-12 00:00:00</td>\n",
       "      <td>6907.96</td>\n",
       "      <td>6542.08</td>\n",
       "      <td>1.18007e+11</td>\n",
       "      <td>6905.82</td>\n",
       "      <td>4.65438e+09</td>\n",
       "    </tr>\n",
       "    <tr>\n",
       "      <th>4</th>\n",
       "      <td>6906.92</td>\n",
       "      <td>2018-06-11 00:00:00</td>\n",
       "      <td>6910.18</td>\n",
       "      <td>6706.63</td>\n",
       "      <td>1.16175e+11</td>\n",
       "      <td>6799.29</td>\n",
       "      <td>4.74527e+09</td>\n",
       "    </tr>\n",
       "  </tbody>\n",
       "</table>\n",
       "</div>"
      ],
      "text/plain": [
       "     close                 date     high      low         mcap     open  \\\n",
       "0  6456.58  2018-06-15 00:00:00  6681.08  6433.87  1.14084e+11  6674.08   \n",
       "1  6675.35  2018-06-14 00:00:00  6707.14  6334.46  1.08408e+11  6342.75   \n",
       "2   6349.9  2018-06-13 00:00:00  6631.66  6285.63   1.1274e+11  6596.88   \n",
       "3  6582.36  2018-06-12 00:00:00  6907.96  6542.08  1.18007e+11  6905.82   \n",
       "4  6906.92  2018-06-11 00:00:00  6910.18  6706.63  1.16175e+11  6799.29   \n",
       "\n",
       "        volume  \n",
       "0  3.95539e+09  \n",
       "1  5.13871e+09  \n",
       "2  5.05235e+09  \n",
       "3  4.65438e+09  \n",
       "4  4.74527e+09  "
      ]
     },
     "execution_count": 94,
     "metadata": {},
     "output_type": "execute_result"
    }
   ],
   "source": [
    "df.head()"
   ]
  }
 ],
 "metadata": {
  "kernelspec": {
   "display_name": "Python 3",
   "language": "python",
   "name": "python3"
  },
  "language_info": {
   "codemirror_mode": {
    "name": "ipython",
    "version": 3
   },
   "file_extension": ".py",
   "mimetype": "text/x-python",
   "name": "python",
   "nbconvert_exporter": "python",
   "pygments_lexer": "ipython3",
   "version": "3.6.3"
  }
 },
 "nbformat": 4,
 "nbformat_minor": 2
}
