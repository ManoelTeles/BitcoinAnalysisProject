{
 "cells": [
  {
   "cell_type": "markdown",
   "metadata": {},
   "source": [
    "<h1> BitcoinScraping </h1>"
   ]
  },
  {
   "cell_type": "code",
   "execution_count": 188,
   "metadata": {},
   "outputs": [],
   "source": [
    "import urllib.request\n",
    "from bs4 import BeautifulSoup\n",
    "import pandas as pd\n",
    "from datetime import datetime\n",
    "import time "
   ]
  },
  {
   "cell_type": "code",
   "execution_count": 189,
   "metadata": {},
   "outputs": [],
   "source": [
    "import seaborn as sns\n",
    "import matplotlib.pyplot as plt\n",
    "%matplotlib inline"
   ]
  },
  {
   "cell_type": "code",
   "execution_count": 190,
   "metadata": {
    "collapsed": true
   },
   "outputs": [],
   "source": [
    "dtIni = \"20180801\"\n",
    "dtEnd = \"20180815\"\n",
    "url = \"https://coinmarketcap.com/currencies/bitcoin/historical-data/?start={}&end={}\".format(dtIni, dtEnd)\n",
    "page = urllib.request.urlopen(url)\n",
    "soup = BeautifulSoup(page, 'html.parser')"
   ]
  },
  {
   "cell_type": "code",
   "execution_count": 191,
   "metadata": {
    "collapsed": true
   },
   "outputs": [],
   "source": [
    "priceDiv = soup.find('div', attrs={'class':\"table-responsive\"})\n",
    "rows = priceDiv.find_all('tr')"
   ]
  },
  {
   "cell_type": "code",
   "execution_count": 192,
   "metadata": {
    "collapsed": true
   },
   "outputs": [],
   "source": [
    "data = []\n",
    "i = 0;"
   ]
  },
  {
   "cell_type": "code",
   "execution_count": 193,
   "metadata": {},
   "outputs": [],
   "source": [
    "for row in rows:\n",
    "    tmp = []\n",
    "    tds = row.findChildren()\n",
    "    \n",
    "    for td in tds:\n",
    "        tmp.append(td.text)\n",
    "        \n",
    "    if(i > 0):\n",
    "        try:\n",
    "            tmp[0] = tmp[0].replace(',','')\n",
    "            tmp[5] = tmp[5].replace(',','')\n",
    "            tmp[6] = tmp[6].replace(',','')\n",
    "            \n",
    "            data.append({'date':datetime.strptime(tmp[0], '%b %d %Y'),\n",
    "                         'open':tmp[1],\n",
    "                         'high':float(tmp[2]),\n",
    "                         'low':float(tmp[3]),\n",
    "                         'close':float(tmp[4]),\n",
    "                         'volume':float(tmp[5]),\n",
    "                         'mcap':float(tmp[6])})\n",
    "        except ValueError as e:\n",
    "            print(e)\n",
    "\n",
    "    i = i + 1;\n",
    "\n",
    "df = pd.DataFrame(data)    "
   ]
  },
  {
   "cell_type": "code",
   "execution_count": 194,
   "metadata": {},
   "outputs": [
    {
     "data": {
      "text/html": [
       "<div>\n",
       "<style>\n",
       "    .dataframe thead tr:only-child th {\n",
       "        text-align: right;\n",
       "    }\n",
       "\n",
       "    .dataframe thead th {\n",
       "        text-align: left;\n",
       "    }\n",
       "\n",
       "    .dataframe tbody tr th {\n",
       "        vertical-align: top;\n",
       "    }\n",
       "</style>\n",
       "<table border=\"1\" class=\"dataframe\">\n",
       "  <thead>\n",
       "    <tr style=\"text-align: right;\">\n",
       "      <th></th>\n",
       "      <th>close</th>\n",
       "      <th>date</th>\n",
       "      <th>high</th>\n",
       "      <th>low</th>\n",
       "      <th>mcap</th>\n",
       "      <th>open</th>\n",
       "      <th>volume</th>\n",
       "    </tr>\n",
       "  </thead>\n",
       "  <tbody>\n",
       "    <tr>\n",
       "      <th>0</th>\n",
       "      <td>6308.52</td>\n",
       "      <td>2018-08-15</td>\n",
       "      <td>6588.49</td>\n",
       "      <td>6221.42</td>\n",
       "      <td>1.070701e+11</td>\n",
       "      <td>6221.42</td>\n",
       "      <td>4.895450e+09</td>\n",
       "    </tr>\n",
       "    <tr>\n",
       "      <th>1</th>\n",
       "      <td>6199.71</td>\n",
       "      <td>2018-08-14</td>\n",
       "      <td>6287.94</td>\n",
       "      <td>5971.05</td>\n",
       "      <td>1.081991e+11</td>\n",
       "      <td>6287.66</td>\n",
       "      <td>5.301700e+09</td>\n",
       "    </tr>\n",
       "    <tr>\n",
       "      <th>2</th>\n",
       "      <td>6297.57</td>\n",
       "      <td>2018-08-13</td>\n",
       "      <td>6537.05</td>\n",
       "      <td>6225.72</td>\n",
       "      <td>1.091115e+11</td>\n",
       "      <td>6341.36</td>\n",
       "      <td>4.083980e+09</td>\n",
       "    </tr>\n",
       "    <tr>\n",
       "      <th>3</th>\n",
       "      <td>6322.69</td>\n",
       "      <td>2018-08-12</td>\n",
       "      <td>6409.85</td>\n",
       "      <td>6237.50</td>\n",
       "      <td>1.081065e+11</td>\n",
       "      <td>6283.65</td>\n",
       "      <td>5.665250e+09</td>\n",
       "    </tr>\n",
       "    <tr>\n",
       "      <th>4</th>\n",
       "      <td>6295.73</td>\n",
       "      <td>2018-08-11</td>\n",
       "      <td>6455.74</td>\n",
       "      <td>6109.03</td>\n",
       "      <td>1.064095e+11</td>\n",
       "      <td>6185.79</td>\n",
       "      <td>4.047850e+09</td>\n",
       "    </tr>\n",
       "  </tbody>\n",
       "</table>\n",
       "</div>"
      ],
      "text/plain": [
       "     close       date     high      low          mcap     open        volume\n",
       "0  6308.52 2018-08-15  6588.49  6221.42  1.070701e+11  6221.42  4.895450e+09\n",
       "1  6199.71 2018-08-14  6287.94  5971.05  1.081991e+11  6287.66  5.301700e+09\n",
       "2  6297.57 2018-08-13  6537.05  6225.72  1.091115e+11  6341.36  4.083980e+09\n",
       "3  6322.69 2018-08-12  6409.85  6237.50  1.081065e+11  6283.65  5.665250e+09\n",
       "4  6295.73 2018-08-11  6455.74  6109.03  1.064095e+11  6185.79  4.047850e+09"
      ]
     },
     "execution_count": 194,
     "metadata": {},
     "output_type": "execute_result"
    }
   ],
   "source": [
    "df.head()"
   ]
  },
  {
   "cell_type": "code",
   "execution_count": 195,
   "metadata": {},
   "outputs": [
    {
     "name": "stdout",
     "output_type": "stream",
     "text": [
      "<class 'pandas.core.frame.DataFrame'>\n",
      "RangeIndex: 15 entries, 0 to 14\n",
      "Data columns (total 7 columns):\n",
      "close     15 non-null float64\n",
      "date      15 non-null datetime64[ns]\n",
      "high      15 non-null float64\n",
      "low       15 non-null float64\n",
      "mcap      15 non-null float64\n",
      "open      15 non-null object\n",
      "volume    15 non-null float64\n",
      "dtypes: datetime64[ns](1), float64(5), object(1)\n",
      "memory usage: 920.0+ bytes\n"
     ]
    }
   ],
   "source": [
    "df.info()"
   ]
  },
  {
   "cell_type": "code",
   "execution_count": 196,
   "metadata": {},
   "outputs": [],
   "source": [
    "# Converting large numbers to float\n",
    "df['volume'] = df['volume'].apply(lambda x: '{:.2f}'.format(x))\n",
    "df['mcap'] = df['mcap'].apply(lambda x: '{:.2f}'.format(x))"
   ]
  },
  {
   "cell_type": "code",
   "execution_count": 197,
   "metadata": {
    "scrolled": true
   },
   "outputs": [
    {
     "data": {
      "text/html": [
       "<div>\n",
       "<style>\n",
       "    .dataframe thead tr:only-child th {\n",
       "        text-align: right;\n",
       "    }\n",
       "\n",
       "    .dataframe thead th {\n",
       "        text-align: left;\n",
       "    }\n",
       "\n",
       "    .dataframe tbody tr th {\n",
       "        vertical-align: top;\n",
       "    }\n",
       "</style>\n",
       "<table border=\"1\" class=\"dataframe\">\n",
       "  <thead>\n",
       "    <tr style=\"text-align: right;\">\n",
       "      <th></th>\n",
       "      <th>close</th>\n",
       "      <th>date</th>\n",
       "      <th>high</th>\n",
       "      <th>low</th>\n",
       "      <th>mcap</th>\n",
       "      <th>open</th>\n",
       "      <th>volume</th>\n",
       "    </tr>\n",
       "  </thead>\n",
       "  <tbody>\n",
       "    <tr>\n",
       "      <th>0</th>\n",
       "      <td>6308.52</td>\n",
       "      <td>2018-08-15</td>\n",
       "      <td>6588.49</td>\n",
       "      <td>6221.42</td>\n",
       "      <td>107070056730.00</td>\n",
       "      <td>6221.42</td>\n",
       "      <td>4895450000.00</td>\n",
       "    </tr>\n",
       "    <tr>\n",
       "      <th>1</th>\n",
       "      <td>6199.71</td>\n",
       "      <td>2018-08-14</td>\n",
       "      <td>6287.94</td>\n",
       "      <td>5971.05</td>\n",
       "      <td>108199097492.00</td>\n",
       "      <td>6287.66</td>\n",
       "      <td>5301700000.00</td>\n",
       "    </tr>\n",
       "    <tr>\n",
       "      <th>2</th>\n",
       "      <td>6297.57</td>\n",
       "      <td>2018-08-13</td>\n",
       "      <td>6537.05</td>\n",
       "      <td>6225.72</td>\n",
       "      <td>109111523954.00</td>\n",
       "      <td>6341.36</td>\n",
       "      <td>4083980000.00</td>\n",
       "    </tr>\n",
       "    <tr>\n",
       "      <th>3</th>\n",
       "      <td>6322.69</td>\n",
       "      <td>2018-08-12</td>\n",
       "      <td>6409.85</td>\n",
       "      <td>6237.50</td>\n",
       "      <td>108106451582.00</td>\n",
       "      <td>6283.65</td>\n",
       "      <td>5665250000.00</td>\n",
       "    </tr>\n",
       "    <tr>\n",
       "      <th>4</th>\n",
       "      <td>6295.73</td>\n",
       "      <td>2018-08-11</td>\n",
       "      <td>6455.74</td>\n",
       "      <td>6109.03</td>\n",
       "      <td>106409456302.00</td>\n",
       "      <td>6185.79</td>\n",
       "      <td>4047850000.00</td>\n",
       "    </tr>\n",
       "  </tbody>\n",
       "</table>\n",
       "</div>"
      ],
      "text/plain": [
       "     close       date     high      low             mcap     open  \\\n",
       "0  6308.52 2018-08-15  6588.49  6221.42  107070056730.00  6221.42   \n",
       "1  6199.71 2018-08-14  6287.94  5971.05  108199097492.00  6287.66   \n",
       "2  6297.57 2018-08-13  6537.05  6225.72  109111523954.00  6341.36   \n",
       "3  6322.69 2018-08-12  6409.85  6237.50  108106451582.00  6283.65   \n",
       "4  6295.73 2018-08-11  6455.74  6109.03  106409456302.00  6185.79   \n",
       "\n",
       "          volume  \n",
       "0  4895450000.00  \n",
       "1  5301700000.00  \n",
       "2  4083980000.00  \n",
       "3  5665250000.00  \n",
       "4  4047850000.00  "
      ]
     },
     "execution_count": 197,
     "metadata": {},
     "output_type": "execute_result"
    }
   ],
   "source": [
    "df.head()"
   ]
  },
  {
   "cell_type": "code",
   "execution_count": 198,
   "metadata": {},
   "outputs": [
    {
     "name": "stdout",
     "output_type": "stream",
     "text": [
      "<class 'pandas.core.frame.DataFrame'>\n",
      "RangeIndex: 15 entries, 0 to 14\n",
      "Data columns (total 7 columns):\n",
      "close     15 non-null float64\n",
      "date      15 non-null datetime64[ns]\n",
      "high      15 non-null float64\n",
      "low       15 non-null float64\n",
      "mcap      15 non-null object\n",
      "open      15 non-null object\n",
      "volume    15 non-null object\n",
      "dtypes: datetime64[ns](1), float64(3), object(3)\n",
      "memory usage: 920.0+ bytes\n"
     ]
    }
   ],
   "source": [
    "df.info()"
   ]
  }
 ],
 "metadata": {
  "kernelspec": {
   "display_name": "Python 3",
   "language": "python",
   "name": "python3"
  },
  "language_info": {
   "codemirror_mode": {
    "name": "ipython",
    "version": 3
   },
   "file_extension": ".py",
   "mimetype": "text/x-python",
   "name": "python",
   "nbconvert_exporter": "python",
   "pygments_lexer": "ipython3",
   "version": "3.6.3"
  }
 },
 "nbformat": 4,
 "nbformat_minor": 2
}
